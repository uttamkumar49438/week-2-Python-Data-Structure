{
 "cells": [
  {
   "cell_type": "markdown",
   "id": "335dc1fa-b00a-4e07-8f81-762af6e43d4c",
   "metadata": {},
   "source": [
    "Q1. How do you comment code in Python? What are the different types of comments?\n",
    "\n"
   ]
  },
  {
   "cell_type": "code",
   "execution_count": 5,
   "id": "3bd57cf8-e9ef-4a98-93c7-1fbcc10a11b2",
   "metadata": {},
   "outputs": [
    {
     "data": {
      "text/plain": [
       "'\\n2) to comment code in python \\n'"
      ]
     },
     "execution_count": 5,
     "metadata": {},
     "output_type": "execute_result"
    }
   ],
   "source": [
    "# 1) to comment code in python\n",
    "\"\"\"\n",
    "2) to comment code in python \n",
    "\"\"\""
   ]
  },
  {
   "cell_type": "markdown",
   "id": "6fa38a1a-413f-48fb-9c7c-4162d6087aba",
   "metadata": {},
   "source": [
    "Q2. What are variables in Python? How do you declare and assign values to variables?\n"
   ]
  },
  {
   "cell_type": "markdown",
   "id": "b9611188-1454-4426-ae5c-900279973af6",
   "metadata": {},
   "source": [
    "A variable is created when some value is assigned to it. The value assigned to a variable determines the data type of that variable. Thus, declaring a variable in Python is very simple."
   ]
  },
  {
   "cell_type": "markdown",
   "id": "879efdc4-0705-4368-9f57-471c06cfb8a8",
   "metadata": {},
   "source": [
    "Q3. How do you convert one data type to another in Python?\n"
   ]
  },
  {
   "cell_type": "markdown",
   "id": "c298e0a9-ccfc-4109-b00e-8c004acd9b9e",
   "metadata": {},
   "source": [
    "Python defines type conversion functions to directly convert one data type to another which is useful in day-to-day and competitive programming.\n",
    "There are two types of Type Conversion in Python:\n",
    "\n",
    "Implicit Type Conversion\n",
    "Explicit Type Conversion"
   ]
  },
  {
   "cell_type": "markdown",
   "id": "61e49cf4-a5ed-4968-b9cd-349c4a94770b",
   "metadata": {},
   "source": [
    "Q4. How do you write and execute a Python script from the command line?\n"
   ]
  },
  {
   "cell_type": "markdown",
   "id": "314c46ab-66c3-4153-867d-8b7ba81d95ef",
   "metadata": {},
   "source": [
    " open a command-line and type in the word python , or python3 if you have both versions, followed by the path to your script"
   ]
  },
  {
   "cell_type": "markdown",
   "id": "03f4b5b8-3fe0-42b5-b84c-d36981655196",
   "metadata": {},
   "source": [
    "Q5. Given a list my_list = [1, 2, 3, 4, 5], write the code to slice the list and obtain the sub-list [2, 3].\n"
   ]
  },
  {
   "cell_type": "code",
   "execution_count": 16,
   "id": "62578e26-96ff-45cd-a825-500b754bf529",
   "metadata": {},
   "outputs": [
    {
     "data": {
      "text/plain": [
       "[2, 3]"
      ]
     },
     "execution_count": 16,
     "metadata": {},
     "output_type": "execute_result"
    }
   ],
   "source": [
    "my_list = [1,2,3,4,5]\n",
    "my_list.pop(0)\n",
    "my_list.pop(2)\n",
    "my_list.pop(-1)\n",
    "\n",
    "my_list"
   ]
  },
  {
   "cell_type": "markdown",
   "id": "5e0df7fa-2dd7-49ca-a45e-ac5a9856b8dd",
   "metadata": {},
   "source": [
    "Q6. What is a complex number in mathematics, and how is it represented in Python?\n"
   ]
  },
  {
   "cell_type": "code",
   "execution_count": 23,
   "id": "c3440922-f87b-4131-90a0-054e7d00af15",
   "metadata": {},
   "outputs": [
    {
     "data": {
      "text/plain": [
       "[(2+1j)]"
      ]
     },
     "execution_count": 23,
     "metadata": {},
     "output_type": "execute_result"
    }
   ],
   "source": [
    "a = [2+1j]\n",
    "a"
   ]
  },
  {
   "cell_type": "markdown",
   "id": "2468ec13-0390-4987-9a75-28250396eacf",
   "metadata": {},
   "source": [
    "Q7. What is the correct way to declare a variable named age and assign the value 25 to it?\n"
   ]
  },
  {
   "cell_type": "code",
   "execution_count": 27,
   "id": "da07a06f-7231-4125-94a5-8d62b645c501",
   "metadata": {},
   "outputs": [
    {
     "name": "stdout",
     "output_type": "stream",
     "text": [
      "25\n"
     ]
    }
   ],
   "source": [
    "\n",
    "age = 25\n",
    "print(age)"
   ]
  },
  {
   "cell_type": "markdown",
   "id": "333127df-a45e-4cd0-9245-668f2487dccc",
   "metadata": {},
   "source": [
    "Q8. Declare a variable named price and assign the value 9.99 to it. What data type does this variable \n",
    "belong to?\n"
   ]
  },
  {
   "cell_type": "code",
   "execution_count": 28,
   "id": "bae33454-638b-4d9f-a421-cd12cf279237",
   "metadata": {},
   "outputs": [
    {
     "data": {
      "text/plain": [
       "float"
      ]
     },
     "execution_count": 28,
     "metadata": {},
     "output_type": "execute_result"
    }
   ],
   "source": [
    "price = 9.99\n",
    "type(price)"
   ]
  },
  {
   "cell_type": "markdown",
   "id": "163cbee7-4738-43d9-99ef-a614c442a34b",
   "metadata": {},
   "source": [
    "Q9. Create a variable named name and assign your full name to it as a string. How would you print the \n",
    "value of this variable?\n"
   ]
  },
  {
   "cell_type": "code",
   "execution_count": 30,
   "id": "4145d9eb-b85d-4911-82b7-3a4319590753",
   "metadata": {},
   "outputs": [
    {
     "data": {
      "text/plain": [
       "'Uttam_Kumar_Mahato'"
      ]
     },
     "execution_count": 30,
     "metadata": {},
     "output_type": "execute_result"
    }
   ],
   "source": [
    "str1 = ('Uttam_Kumar_Mahato')\n",
    "str1"
   ]
  },
  {
   "cell_type": "raw",
   "id": "eeb4f702-73fb-4b28-883d-b22370be657d",
   "metadata": {},
   "source": [
    "Q10. Given the string \"Hello, World!\", extract the substring \"World\".\n"
   ]
  },
  {
   "cell_type": "code",
   "execution_count": 37,
   "id": "28706424-c208-4145-a61e-74db3c1a2040",
   "metadata": {},
   "outputs": [
    {
     "data": {
      "text/plain": [
       "()"
      ]
     },
     "execution_count": 37,
     "metadata": {},
     "output_type": "execute_result"
    }
   ],
   "source": [
    "str2 = (\"Hello\",\"World\")\n",
    "str2[6:10]\n"
   ]
  },
  {
   "cell_type": "markdown",
   "id": "500022a5-6fe8-440d-bdf9-bc0213af08a5",
   "metadata": {},
   "source": [
    "Q11. Create a variable named \"is_student\" and assign it a boolean value indicating whether you are \n",
    "currently a student or not."
   ]
  }
 ],
 "metadata": {
  "kernelspec": {
   "display_name": "Python 3 (ipykernel)",
   "language": "python",
   "name": "python3"
  },
  "language_info": {
   "codemirror_mode": {
    "name": "ipython",
    "version": 3
   },
   "file_extension": ".py",
   "mimetype": "text/x-python",
   "name": "python",
   "nbconvert_exporter": "python",
   "pygments_lexer": "ipython3",
   "version": "3.10.8"
  }
 },
 "nbformat": 4,
 "nbformat_minor": 5
}
